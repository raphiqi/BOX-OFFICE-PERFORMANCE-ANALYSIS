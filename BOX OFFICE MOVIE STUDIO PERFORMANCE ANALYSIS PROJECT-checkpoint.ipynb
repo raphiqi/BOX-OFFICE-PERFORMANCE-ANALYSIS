{
 "cells": [
  {
   "cell_type": "markdown",
   "id": "4c6a9b98",
   "metadata": {},
   "source": [
    "# BOX OFFICE MOVIE STUDIO PERFORMANCE ANALYSIS"
   ]
  },
  {
   "cell_type": "markdown",
   "id": "938d9878",
   "metadata": {},
   "source": [
    "### Project Goal "
   ]
  },
  {
   "cell_type": "markdown",
   "id": "dae0bb22",
   "metadata": {},
   "source": [
    "To predict which studio produces the best movies based on gross revenue"
   ]
  },
  {
   "cell_type": "markdown",
   "id": "d5677b16",
   "metadata": {},
   "source": [
    "## OVERVIEW "
   ]
  },
  {
   "cell_type": "markdown",
   "id": "436445ab",
   "metadata": {},
   "source": [
    "The goal of this project is to analyze a dataset containing information about movies, including their genres, studios, and domestic gross revenue. The project aimed to gain insights and understand the characteristics of the data through exploratory data analysis and visualizations."
   ]
  },
  {
   "cell_type": "markdown",
   "id": "7f7dcb15",
   "metadata": {},
   "source": [
    "## 1.BUSINESS UNDERSTANDING"
   ]
  },
  {
   "cell_type": "markdown",
   "id": "7781afbe",
   "metadata": {},
   "source": [
    "### a.) Introduction "
   ]
  },
  {
   "cell_type": "markdown",
   "id": "b6504731",
   "metadata": {},
   "source": [
    "Movies are common staple of entertainment we can find that encourages the wave of creativity and art to be showcased on our screens.In this case we are using a dataset for which gives us various movies along with information based from genres, reviews, ratings, crew, gross, movie budget etc. This can be used to evaluate the information we can analyse to know the success rate of this movies we watch to the most popular genre of movies. Data analysis allows businesses to perform comprehensive market research to identify target audiences, understand their preferences, and predict trends. Analyzing demographic data, consumer surveys, and historical box office data can help identify patterns and inform decision-making in terms of genre selection, casting choices, and marketing strategies.Data analysis allows businesses to evaluate the success of individual movies or franchises. By analyzing box office revenue, critical reviews, audience ratings, and other performance indicators, stakeholders can assess the profitability and popularity of specific movies. This evaluation aids in understanding which movies resonate with audiences, identifying potential areas of improvement, and making informed decisions regarding future projects"
   ]
  },
  {
   "cell_type": "markdown",
   "id": "8d86079a",
   "metadata": {},
   "source": [
    "### b.) Problem Statement "
   ]
  },
  {
   "cell_type": "markdown",
   "id": "d3f4c0d8",
   "metadata": {},
   "source": [
    "Objective: The objective is to analyze the dataset and gain insights into the factors that influence box office performance. The analysis aims to provide actionable information that can be used to enhance decision-making processes within the film industry.\n",
    "\n",
    "Data: The analysis will be based on a dataset consisting of information on movies, including variables such as gross revenue, production budget, genre, release date, audience ratings, and reviews. The dataset should be comprehensive, reliable, and up-to-date to ensure accurate analysis.\n",
    "\n",
    "Stakeholders: The stakeholders involved in this analysis include movie producers, studios, distributors, exhibitors, and other industry professionals. The insights derived from the analysis will assist these stakeholders in understanding the key drivers of box office success and enable them to make strategic decisions related to movie production, marketing, and distribution.\n",
    "\n",
    "Scope: The analysis will focus on understanding the relationship between various factors and box office performance. This includes exploring the impact of production budget, genre, release date, audience ratings, and reviews on the commercial success of movies. The analysis will consider a specific time period and may focus on specific geographical regions or markets.\n",
    "\n",
    "Deliverables: The deliverables of this analysis will include insights and recommendations that can be used by stakeholders to enhance box office performance. These insights may involve identifying genres that tend to perform well, determining optimal release periods, understanding the influence of marketing efforts on ticket sales, and other actionable information that can guide decision-making processes.\n",
    "\n",
    "By addressing the problem statement, this analysis aims to provide valuable insights into the factors that drive box office success in the film industry. The outcomes of the analysis will assist stakeholders in making data-informed decisions and maximizing the commercial performance of their movies."
   ]
  },
  {
   "cell_type": "markdown",
   "id": "7723f066",
   "metadata": {},
   "source": [
    "### c.) Main Objective"
   ]
  },
  {
   "cell_type": "markdown",
   "id": "1fde7847",
   "metadata": {},
   "source": [
    "It should be able to help us find out what kind of movies we can watch based on the recommendations from the previous success rates and gain insights into the factors that influence box office performance and and provide actionable insights to stakeholders in the film industry. By analyzing a comprehensive dataset encompassing movie information, gross revenue, ratings, reviews, and related variables, the project aims to achieve the following:\n",
    "\n",
    "Determine Influential Factors: Identify the factors that have the greatest impact on a movie's box office performance. This includes exploring variables such as production budget, genre, release date, audience ratings, critical reception, and marketing efforts.\n"
   ]
  },
  {
   "cell_type": "markdown",
   "id": "05e6408e",
   "metadata": {},
   "source": [
    "### d.) Specific Objectives "
   ]
  },
  {
   "cell_type": "markdown",
   "id": "0ae23a42",
   "metadata": {},
   "source": [
    "Understand Relationships and Trends: Analyze the dataset to uncover patterns, correlations, and trends between different variables and box office success. Examine how factors such as genre popularity, budget allocation, release timing, or audience sentiment affect the commercial performance of movies.\n",
    "\n",
    "Provide Actionable Insights: Derive actionable insights that can guide decision-making processes in the film industry. Offer recommendations to stakeholders, including filmmakers, studios, distributors, and exhibitors, on how to enhance the box office performance of their movies based on the identified influential factors and observed trends.\n",
    "\n",
    "Support Strategic Decision Making: Equip stakeholders with the necessary information to make informed decisions related to movie production, marketing strategies, distribution plans, and resource allocation. Enable them to optimize their decision-making processes based on data-driven insights and increase the chances of commercial success."
   ]
  },
  {
   "cell_type": "markdown",
   "id": "9ff5e676",
   "metadata": {},
   "source": [
    "### e.) Experimental Design "
   ]
  },
  {
   "cell_type": "markdown",
   "id": "cb26c37c",
   "metadata": {},
   "source": [
    "i. Data Collection\n",
    "ii. Read and check the data\n",
    "iii. Cleaning the data\n",
    "iv. Exploratory Data Analysis\n",
    "v. Data modelling and model performance evaluation\n",
    "vi. Use the model to make predictions\n",
    "vii. Conclusions and Recommendations\n",
    "viii. Deploy the model"
   ]
  },
  {
   "cell_type": "markdown",
   "id": "6c799ec8",
   "metadata": {},
   "source": [
    "## 2. DATA UNDERSTANDING"
   ]
  },
  {
   "cell_type": "markdown",
   "id": "86120f10",
   "metadata": {},
   "source": [
    "IMDB: The IMDB data is located in a SQLite database file called \"im.db.zip\". The relevant tables for analysis are \"movie_basics\" and \"movie_ratings\". The IMDB data contains information about movies such as titles, genres, release dates, ratings, and more.Datasource is from [IMDB](https://www.imdb.com/)\n",
    "\n",
    "Box Office Mojo: The data from Box Office Mojo is stored in a compressed CSV file called \"bom.movie_gross.csv.gz\". This file contains information about the domestic and worldwide box office gross for movies.Datasource is from [Box Office Mojo](https://www.imdb.com/)"
   ]
  },
  {
   "cell_type": "markdown",
   "id": "4112fadf",
   "metadata": {},
   "source": [
    "### Importing Data"
   ]
  },
  {
   "cell_type": "code",
   "execution_count": 3,
   "id": "7eb439ec",
   "metadata": {},
   "outputs": [],
   "source": [
    "# importing relevant libraries\n",
    "import pandas as pd\n",
    "import numpy as np\n",
    "import matplotlib.pyplot as plt\n",
    "import sqlite3"
   ]
  },
  {
   "cell_type": "markdown",
   "id": "9b41d387",
   "metadata": {},
   "source": [
    "### Reading Data "
   ]
  },
  {
   "cell_type": "code",
   "execution_count": 4,
   "id": "f9bea43e",
   "metadata": {},
   "outputs": [
    {
     "data": {
      "text/html": [
       "<div>\n",
       "<style scoped>\n",
       "    .dataframe tbody tr th:only-of-type {\n",
       "        vertical-align: middle;\n",
       "    }\n",
       "\n",
       "    .dataframe tbody tr th {\n",
       "        vertical-align: top;\n",
       "    }\n",
       "\n",
       "    .dataframe thead th {\n",
       "        text-align: right;\n",
       "    }\n",
       "</style>\n",
       "<table border=\"1\" class=\"dataframe\">\n",
       "  <thead>\n",
       "    <tr style=\"text-align: right;\">\n",
       "      <th></th>\n",
       "      <th>title</th>\n",
       "      <th>studio</th>\n",
       "      <th>domestic_gross</th>\n",
       "      <th>foreign_gross</th>\n",
       "      <th>year</th>\n",
       "    </tr>\n",
       "  </thead>\n",
       "  <tbody>\n",
       "    <tr>\n",
       "      <th>0</th>\n",
       "      <td>Toy Story 3</td>\n",
       "      <td>BV</td>\n",
       "      <td>415000000.0</td>\n",
       "      <td>652000000</td>\n",
       "      <td>2010</td>\n",
       "    </tr>\n",
       "    <tr>\n",
       "      <th>1</th>\n",
       "      <td>Alice in Wonderland (2010)</td>\n",
       "      <td>BV</td>\n",
       "      <td>334200000.0</td>\n",
       "      <td>691300000</td>\n",
       "      <td>2010</td>\n",
       "    </tr>\n",
       "    <tr>\n",
       "      <th>2</th>\n",
       "      <td>Harry Potter and the Deathly Hallows Part 1</td>\n",
       "      <td>WB</td>\n",
       "      <td>296000000.0</td>\n",
       "      <td>664300000</td>\n",
       "      <td>2010</td>\n",
       "    </tr>\n",
       "    <tr>\n",
       "      <th>3</th>\n",
       "      <td>Inception</td>\n",
       "      <td>WB</td>\n",
       "      <td>292600000.0</td>\n",
       "      <td>535700000</td>\n",
       "      <td>2010</td>\n",
       "    </tr>\n",
       "    <tr>\n",
       "      <th>4</th>\n",
       "      <td>Shrek Forever After</td>\n",
       "      <td>P/DW</td>\n",
       "      <td>238700000.0</td>\n",
       "      <td>513900000</td>\n",
       "      <td>2010</td>\n",
       "    </tr>\n",
       "  </tbody>\n",
       "</table>\n",
       "</div>"
      ],
      "text/plain": [
       "                                         title studio  domestic_gross   \n",
       "0                                  Toy Story 3     BV     415000000.0  \\\n",
       "1                   Alice in Wonderland (2010)     BV     334200000.0   \n",
       "2  Harry Potter and the Deathly Hallows Part 1     WB     296000000.0   \n",
       "3                                    Inception     WB     292600000.0   \n",
       "4                          Shrek Forever After   P/DW     238700000.0   \n",
       "\n",
       "  foreign_gross  year  \n",
       "0     652000000  2010  \n",
       "1     691300000  2010  \n",
       "2     664300000  2010  \n",
       "3     535700000  2010  \n",
       "4     513900000  2010  "
      ]
     },
     "execution_count": 4,
     "metadata": {},
     "output_type": "execute_result"
    }
   ],
   "source": [
    "#load the box office mojo gross csv file\n",
    "bom_data = pd.read_csv(\"bom.movie_gross.csv\")\n",
    "bom_data.head()"
   ]
  },
  {
   "cell_type": "code",
   "execution_count": 5,
   "id": "9c8aef94",
   "metadata": {},
   "outputs": [
    {
     "data": {
      "text/html": [
       "<div>\n",
       "<style scoped>\n",
       "    .dataframe tbody tr th:only-of-type {\n",
       "        vertical-align: middle;\n",
       "    }\n",
       "\n",
       "    .dataframe tbody tr th {\n",
       "        vertical-align: top;\n",
       "    }\n",
       "\n",
       "    .dataframe thead th {\n",
       "        text-align: right;\n",
       "    }\n",
       "</style>\n",
       "<table border=\"1\" class=\"dataframe\">\n",
       "  <thead>\n",
       "    <tr style=\"text-align: right;\">\n",
       "      <th></th>\n",
       "      <th>tconst</th>\n",
       "      <th>averagerating</th>\n",
       "      <th>numvotes</th>\n",
       "    </tr>\n",
       "  </thead>\n",
       "  <tbody>\n",
       "    <tr>\n",
       "      <th>0</th>\n",
       "      <td>tt10356526</td>\n",
       "      <td>8.3</td>\n",
       "      <td>31</td>\n",
       "    </tr>\n",
       "    <tr>\n",
       "      <th>1</th>\n",
       "      <td>tt10384606</td>\n",
       "      <td>8.9</td>\n",
       "      <td>559</td>\n",
       "    </tr>\n",
       "    <tr>\n",
       "      <th>2</th>\n",
       "      <td>tt1042974</td>\n",
       "      <td>6.4</td>\n",
       "      <td>20</td>\n",
       "    </tr>\n",
       "    <tr>\n",
       "      <th>3</th>\n",
       "      <td>tt1043726</td>\n",
       "      <td>4.2</td>\n",
       "      <td>50352</td>\n",
       "    </tr>\n",
       "    <tr>\n",
       "      <th>4</th>\n",
       "      <td>tt1060240</td>\n",
       "      <td>6.5</td>\n",
       "      <td>21</td>\n",
       "    </tr>\n",
       "  </tbody>\n",
       "</table>\n",
       "</div>"
      ],
      "text/plain": [
       "       tconst  averagerating  numvotes\n",
       "0  tt10356526            8.3        31\n",
       "1  tt10384606            8.9       559\n",
       "2   tt1042974            6.4        20\n",
       "3   tt1043726            4.2     50352\n",
       "4   tt1060240            6.5        21"
      ]
     },
     "execution_count": 5,
     "metadata": {},
     "output_type": "execute_result"
    }
   ],
   "source": [
    "#load IMDB Movie title ratings csv file\n",
    "movie_ratings = pd.read_csv(\"title.ratings.csv\")\n",
    "movie_ratings.head()"
   ]
  },
  {
   "cell_type": "code",
   "execution_count": 6,
   "id": "df4f50e2",
   "metadata": {},
   "outputs": [
    {
     "data": {
      "text/html": [
       "<div>\n",
       "<style scoped>\n",
       "    .dataframe tbody tr th:only-of-type {\n",
       "        vertical-align: middle;\n",
       "    }\n",
       "\n",
       "    .dataframe tbody tr th {\n",
       "        vertical-align: top;\n",
       "    }\n",
       "\n",
       "    .dataframe thead th {\n",
       "        text-align: right;\n",
       "    }\n",
       "</style>\n",
       "<table border=\"1\" class=\"dataframe\">\n",
       "  <thead>\n",
       "    <tr style=\"text-align: right;\">\n",
       "      <th></th>\n",
       "      <th>tconst</th>\n",
       "      <th>primary_title</th>\n",
       "      <th>original_title</th>\n",
       "      <th>start_year</th>\n",
       "      <th>runtime_minutes</th>\n",
       "      <th>genres</th>\n",
       "    </tr>\n",
       "  </thead>\n",
       "  <tbody>\n",
       "    <tr>\n",
       "      <th>0</th>\n",
       "      <td>tt0063540</td>\n",
       "      <td>Sunghursh</td>\n",
       "      <td>Sunghursh</td>\n",
       "      <td>2013</td>\n",
       "      <td>175.0</td>\n",
       "      <td>Action,Crime,Drama</td>\n",
       "    </tr>\n",
       "    <tr>\n",
       "      <th>1</th>\n",
       "      <td>tt0066787</td>\n",
       "      <td>One Day Before the Rainy Season</td>\n",
       "      <td>Ashad Ka Ek Din</td>\n",
       "      <td>2019</td>\n",
       "      <td>114.0</td>\n",
       "      <td>Biography,Drama</td>\n",
       "    </tr>\n",
       "    <tr>\n",
       "      <th>2</th>\n",
       "      <td>tt0069049</td>\n",
       "      <td>The Other Side of the Wind</td>\n",
       "      <td>The Other Side of the Wind</td>\n",
       "      <td>2018</td>\n",
       "      <td>122.0</td>\n",
       "      <td>Drama</td>\n",
       "    </tr>\n",
       "    <tr>\n",
       "      <th>3</th>\n",
       "      <td>tt0069204</td>\n",
       "      <td>Sabse Bada Sukh</td>\n",
       "      <td>Sabse Bada Sukh</td>\n",
       "      <td>2018</td>\n",
       "      <td>NaN</td>\n",
       "      <td>Comedy,Drama</td>\n",
       "    </tr>\n",
       "    <tr>\n",
       "      <th>4</th>\n",
       "      <td>tt0100275</td>\n",
       "      <td>The Wandering Soap Opera</td>\n",
       "      <td>La Telenovela Errante</td>\n",
       "      <td>2017</td>\n",
       "      <td>80.0</td>\n",
       "      <td>Comedy,Drama,Fantasy</td>\n",
       "    </tr>\n",
       "  </tbody>\n",
       "</table>\n",
       "</div>"
      ],
      "text/plain": [
       "      tconst                    primary_title              original_title   \n",
       "0  tt0063540                        Sunghursh                   Sunghursh  \\\n",
       "1  tt0066787  One Day Before the Rainy Season             Ashad Ka Ek Din   \n",
       "2  tt0069049       The Other Side of the Wind  The Other Side of the Wind   \n",
       "3  tt0069204                  Sabse Bada Sukh             Sabse Bada Sukh   \n",
       "4  tt0100275         The Wandering Soap Opera       La Telenovela Errante   \n",
       "\n",
       "   start_year  runtime_minutes                genres  \n",
       "0        2013            175.0    Action,Crime,Drama  \n",
       "1        2019            114.0       Biography,Drama  \n",
       "2        2018            122.0                 Drama  \n",
       "3        2018              NaN          Comedy,Drama  \n",
       "4        2017             80.0  Comedy,Drama,Fantasy  "
      ]
     },
     "execution_count": 6,
     "metadata": {},
     "output_type": "execute_result"
    }
   ],
   "source": [
    "#load movie title basics file\n",
    "movie_title = pd.read_csv(\"title.basics.csv\")\n",
    "movie_title.head()"
   ]
  },
  {
   "cell_type": "code",
   "execution_count": 7,
   "id": "71b1f818",
   "metadata": {},
   "outputs": [
    {
     "data": {
      "text/html": [
       "<div>\n",
       "<style scoped>\n",
       "    .dataframe tbody tr th:only-of-type {\n",
       "        vertical-align: middle;\n",
       "    }\n",
       "\n",
       "    .dataframe tbody tr th {\n",
       "        vertical-align: top;\n",
       "    }\n",
       "\n",
       "    .dataframe thead th {\n",
       "        text-align: right;\n",
       "    }\n",
       "</style>\n",
       "<table border=\"1\" class=\"dataframe\">\n",
       "  <thead>\n",
       "    <tr style=\"text-align: right;\">\n",
       "      <th></th>\n",
       "      <th>Unnamed: 0</th>\n",
       "      <th>genre_ids</th>\n",
       "      <th>id</th>\n",
       "      <th>original_language</th>\n",
       "      <th>original_title</th>\n",
       "      <th>popularity</th>\n",
       "      <th>release_date</th>\n",
       "      <th>title</th>\n",
       "      <th>vote_average</th>\n",
       "      <th>vote_count</th>\n",
       "    </tr>\n",
       "  </thead>\n",
       "  <tbody>\n",
       "    <tr>\n",
       "      <th>0</th>\n",
       "      <td>0</td>\n",
       "      <td>[12, 14, 10751]</td>\n",
       "      <td>12444</td>\n",
       "      <td>en</td>\n",
       "      <td>Harry Potter and the Deathly Hallows: Part 1</td>\n",
       "      <td>33.533</td>\n",
       "      <td>2010-11-19</td>\n",
       "      <td>Harry Potter and the Deathly Hallows: Part 1</td>\n",
       "      <td>7.7</td>\n",
       "      <td>10788</td>\n",
       "    </tr>\n",
       "    <tr>\n",
       "      <th>1</th>\n",
       "      <td>1</td>\n",
       "      <td>[14, 12, 16, 10751]</td>\n",
       "      <td>10191</td>\n",
       "      <td>en</td>\n",
       "      <td>How to Train Your Dragon</td>\n",
       "      <td>28.734</td>\n",
       "      <td>2010-03-26</td>\n",
       "      <td>How to Train Your Dragon</td>\n",
       "      <td>7.7</td>\n",
       "      <td>7610</td>\n",
       "    </tr>\n",
       "    <tr>\n",
       "      <th>2</th>\n",
       "      <td>2</td>\n",
       "      <td>[12, 28, 878]</td>\n",
       "      <td>10138</td>\n",
       "      <td>en</td>\n",
       "      <td>Iron Man 2</td>\n",
       "      <td>28.515</td>\n",
       "      <td>2010-05-07</td>\n",
       "      <td>Iron Man 2</td>\n",
       "      <td>6.8</td>\n",
       "      <td>12368</td>\n",
       "    </tr>\n",
       "    <tr>\n",
       "      <th>3</th>\n",
       "      <td>3</td>\n",
       "      <td>[16, 35, 10751]</td>\n",
       "      <td>862</td>\n",
       "      <td>en</td>\n",
       "      <td>Toy Story</td>\n",
       "      <td>28.005</td>\n",
       "      <td>1995-11-22</td>\n",
       "      <td>Toy Story</td>\n",
       "      <td>7.9</td>\n",
       "      <td>10174</td>\n",
       "    </tr>\n",
       "    <tr>\n",
       "      <th>4</th>\n",
       "      <td>4</td>\n",
       "      <td>[28, 878, 12]</td>\n",
       "      <td>27205</td>\n",
       "      <td>en</td>\n",
       "      <td>Inception</td>\n",
       "      <td>27.920</td>\n",
       "      <td>2010-07-16</td>\n",
       "      <td>Inception</td>\n",
       "      <td>8.3</td>\n",
       "      <td>22186</td>\n",
       "    </tr>\n",
       "  </tbody>\n",
       "</table>\n",
       "</div>"
      ],
      "text/plain": [
       "   Unnamed: 0            genre_ids     id original_language   \n",
       "0           0      [12, 14, 10751]  12444                en  \\\n",
       "1           1  [14, 12, 16, 10751]  10191                en   \n",
       "2           2        [12, 28, 878]  10138                en   \n",
       "3           3      [16, 35, 10751]    862                en   \n",
       "4           4        [28, 878, 12]  27205                en   \n",
       "\n",
       "                                 original_title  popularity release_date   \n",
       "0  Harry Potter and the Deathly Hallows: Part 1      33.533   2010-11-19  \\\n",
       "1                      How to Train Your Dragon      28.734   2010-03-26   \n",
       "2                                    Iron Man 2      28.515   2010-05-07   \n",
       "3                                     Toy Story      28.005   1995-11-22   \n",
       "4                                     Inception      27.920   2010-07-16   \n",
       "\n",
       "                                          title  vote_average  vote_count  \n",
       "0  Harry Potter and the Deathly Hallows: Part 1           7.7       10788  \n",
       "1                      How to Train Your Dragon           7.7        7610  \n",
       "2                                    Iron Man 2           6.8       12368  \n",
       "3                                     Toy Story           7.9       10174  \n",
       "4                                     Inception           8.3       22186  "
      ]
     },
     "execution_count": 7,
     "metadata": {},
     "output_type": "execute_result"
    }
   ],
   "source": [
    "#load movies  file\n",
    "movies = pd.read_csv(\"tmdb.movies.csv\")\n",
    "movies.head()"
   ]
  },
  {
   "cell_type": "code",
   "execution_count": 8,
   "id": "0f5b8ce7",
   "metadata": {},
   "outputs": [
    {
     "data": {
      "text/html": [
       "<div>\n",
       "<style scoped>\n",
       "    .dataframe tbody tr th:only-of-type {\n",
       "        vertical-align: middle;\n",
       "    }\n",
       "\n",
       "    .dataframe tbody tr th {\n",
       "        vertical-align: top;\n",
       "    }\n",
       "\n",
       "    .dataframe thead th {\n",
       "        text-align: right;\n",
       "    }\n",
       "</style>\n",
       "<table border=\"1\" class=\"dataframe\">\n",
       "  <thead>\n",
       "    <tr style=\"text-align: right;\">\n",
       "      <th></th>\n",
       "      <th>id</th>\n",
       "      <th>release_date</th>\n",
       "      <th>movie</th>\n",
       "      <th>production_budget</th>\n",
       "      <th>domestic_gross</th>\n",
       "      <th>worldwide_gross</th>\n",
       "    </tr>\n",
       "  </thead>\n",
       "  <tbody>\n",
       "    <tr>\n",
       "      <th>0</th>\n",
       "      <td>1</td>\n",
       "      <td>Dec 18, 2009</td>\n",
       "      <td>Avatar</td>\n",
       "      <td>$425,000,000</td>\n",
       "      <td>$760,507,625</td>\n",
       "      <td>$2,776,345,279</td>\n",
       "    </tr>\n",
       "    <tr>\n",
       "      <th>1</th>\n",
       "      <td>2</td>\n",
       "      <td>May 20, 2011</td>\n",
       "      <td>Pirates of the Caribbean: On Stranger Tides</td>\n",
       "      <td>$410,600,000</td>\n",
       "      <td>$241,063,875</td>\n",
       "      <td>$1,045,663,875</td>\n",
       "    </tr>\n",
       "    <tr>\n",
       "      <th>2</th>\n",
       "      <td>3</td>\n",
       "      <td>Jun 7, 2019</td>\n",
       "      <td>Dark Phoenix</td>\n",
       "      <td>$350,000,000</td>\n",
       "      <td>$42,762,350</td>\n",
       "      <td>$149,762,350</td>\n",
       "    </tr>\n",
       "    <tr>\n",
       "      <th>3</th>\n",
       "      <td>4</td>\n",
       "      <td>May 1, 2015</td>\n",
       "      <td>Avengers: Age of Ultron</td>\n",
       "      <td>$330,600,000</td>\n",
       "      <td>$459,005,868</td>\n",
       "      <td>$1,403,013,963</td>\n",
       "    </tr>\n",
       "    <tr>\n",
       "      <th>4</th>\n",
       "      <td>5</td>\n",
       "      <td>Dec 15, 2017</td>\n",
       "      <td>Star Wars Ep. VIII: The Last Jedi</td>\n",
       "      <td>$317,000,000</td>\n",
       "      <td>$620,181,382</td>\n",
       "      <td>$1,316,721,747</td>\n",
       "    </tr>\n",
       "  </tbody>\n",
       "</table>\n",
       "</div>"
      ],
      "text/plain": [
       "   id  release_date                                        movie   \n",
       "0   1  Dec 18, 2009                                       Avatar  \\\n",
       "1   2  May 20, 2011  Pirates of the Caribbean: On Stranger Tides   \n",
       "2   3   Jun 7, 2019                                 Dark Phoenix   \n",
       "3   4   May 1, 2015                      Avengers: Age of Ultron   \n",
       "4   5  Dec 15, 2017            Star Wars Ep. VIII: The Last Jedi   \n",
       "\n",
       "  production_budget domestic_gross worldwide_gross  \n",
       "0      $425,000,000   $760,507,625  $2,776,345,279  \n",
       "1      $410,600,000   $241,063,875  $1,045,663,875  \n",
       "2      $350,000,000    $42,762,350    $149,762,350  \n",
       "3      $330,600,000   $459,005,868  $1,403,013,963  \n",
       "4      $317,000,000   $620,181,382  $1,316,721,747  "
      ]
     },
     "execution_count": 8,
     "metadata": {},
     "output_type": "execute_result"
    }
   ],
   "source": [
    "movie_budget = pd.read_csv(\"tn.movie_budgets.csv\")\n",
    "movie_budget.head()"
   ]
  },
  {
   "cell_type": "markdown",
   "id": "b5a18fd0",
   "metadata": {},
   "source": [
    "### 2.1 DATA WRANGLING"
   ]
  },
  {
   "cell_type": "markdown",
   "id": "0106c62f",
   "metadata": {},
   "source": [
    "At this point before joining the datasets there has to be modification of datasets and eliminate any unnecessary information, duplicates or columns and rows and remain with only what is relevant for this analysis. "
   ]
  },
  {
   "cell_type": "markdown",
   "id": "dfeaa55d",
   "metadata": {},
   "source": [
    "### Box Office Mojo (bom_data):\n",
    "\n",
    "Check for missing values:"
   ]
  },
  {
   "cell_type": "code",
   "execution_count": 9,
   "id": "57a7d436",
   "metadata": {},
   "outputs": [
    {
     "data": {
      "text/plain": [
       "title                0\n",
       "studio               5\n",
       "domestic_gross      28\n",
       "foreign_gross     1350\n",
       "year                 0\n",
       "dtype: int64"
      ]
     },
     "execution_count": 9,
     "metadata": {},
     "output_type": "execute_result"
    }
   ],
   "source": [
    "bom_data.isnull().sum()"
   ]
  },
  {
   "cell_type": "markdown",
   "id": "35a125e5",
   "metadata": {},
   "source": [
    "#### Handle missing values:\n",
    "If there are missing values in specific columns, you can fill them with appropriate values. For example, you can fill missing domestic gross values with the median using:"
   ]
  },
  {
   "cell_type": "code",
   "execution_count": 10,
   "id": "840ed978",
   "metadata": {},
   "outputs": [
    {
     "data": {
      "text/plain": [
       "1400000.0"
      ]
     },
     "execution_count": 10,
     "metadata": {},
     "output_type": "execute_result"
    }
   ],
   "source": [
    "median_domestic_gross = bom_data['domestic_gross'].median()\n",
    "bom_data['domestic_gross'].fillna(median_domestic_gross, inplace=True)\n",
    "median_domestic_gross"
   ]
  },
  {
   "cell_type": "markdown",
   "id": "e79591dd",
   "metadata": {},
   "source": [
    "row has missing values for important columns, you may consider removing the row using:"
   ]
  },
  {
   "cell_type": "code",
   "execution_count": 11,
   "id": "7c0283d4",
   "metadata": {},
   "outputs": [
    {
     "data": {
      "text/html": [
       "<div>\n",
       "<style scoped>\n",
       "    .dataframe tbody tr th:only-of-type {\n",
       "        vertical-align: middle;\n",
       "    }\n",
       "\n",
       "    .dataframe tbody tr th {\n",
       "        vertical-align: top;\n",
       "    }\n",
       "\n",
       "    .dataframe thead th {\n",
       "        text-align: right;\n",
       "    }\n",
       "</style>\n",
       "<table border=\"1\" class=\"dataframe\">\n",
       "  <thead>\n",
       "    <tr style=\"text-align: right;\">\n",
       "      <th></th>\n",
       "      <th>title</th>\n",
       "      <th>studio</th>\n",
       "      <th>domestic_gross</th>\n",
       "      <th>foreign_gross</th>\n",
       "      <th>year</th>\n",
       "    </tr>\n",
       "  </thead>\n",
       "  <tbody>\n",
       "    <tr>\n",
       "      <th>0</th>\n",
       "      <td>Toy Story 3</td>\n",
       "      <td>BV</td>\n",
       "      <td>415000000.0</td>\n",
       "      <td>652000000</td>\n",
       "      <td>2010</td>\n",
       "    </tr>\n",
       "    <tr>\n",
       "      <th>1</th>\n",
       "      <td>Alice in Wonderland (2010)</td>\n",
       "      <td>BV</td>\n",
       "      <td>334200000.0</td>\n",
       "      <td>691300000</td>\n",
       "      <td>2010</td>\n",
       "    </tr>\n",
       "    <tr>\n",
       "      <th>2</th>\n",
       "      <td>Harry Potter and the Deathly Hallows Part 1</td>\n",
       "      <td>WB</td>\n",
       "      <td>296000000.0</td>\n",
       "      <td>664300000</td>\n",
       "      <td>2010</td>\n",
       "    </tr>\n",
       "    <tr>\n",
       "      <th>3</th>\n",
       "      <td>Inception</td>\n",
       "      <td>WB</td>\n",
       "      <td>292600000.0</td>\n",
       "      <td>535700000</td>\n",
       "      <td>2010</td>\n",
       "    </tr>\n",
       "    <tr>\n",
       "      <th>4</th>\n",
       "      <td>Shrek Forever After</td>\n",
       "      <td>P/DW</td>\n",
       "      <td>238700000.0</td>\n",
       "      <td>513900000</td>\n",
       "      <td>2010</td>\n",
       "    </tr>\n",
       "  </tbody>\n",
       "</table>\n",
       "</div>"
      ],
      "text/plain": [
       "                                         title studio  domestic_gross   \n",
       "0                                  Toy Story 3     BV     415000000.0  \\\n",
       "1                   Alice in Wonderland (2010)     BV     334200000.0   \n",
       "2  Harry Potter and the Deathly Hallows Part 1     WB     296000000.0   \n",
       "3                                    Inception     WB     292600000.0   \n",
       "4                          Shrek Forever After   P/DW     238700000.0   \n",
       "\n",
       "  foreign_gross  year  \n",
       "0     652000000  2010  \n",
       "1     691300000  2010  \n",
       "2     664300000  2010  \n",
       "3     535700000  2010  \n",
       "4     513900000  2010  "
      ]
     },
     "execution_count": 11,
     "metadata": {},
     "output_type": "execute_result"
    }
   ],
   "source": [
    "bom_data.dropna(subset=['title'], inplace=True)\n",
    "bom_data.head()"
   ]
  },
  {
   "cell_type": "markdown",
   "id": "0138c1ed",
   "metadata": {},
   "source": [
    "#### Convert data types:\n",
    "If any columns have incorrect data types, you can convert them using:"
   ]
  },
  {
   "cell_type": "code",
   "execution_count": 12,
   "id": "1807032e",
   "metadata": {},
   "outputs": [],
   "source": [
    "bom_data['foreign_gross'] = bom_data['foreign_gross'].replace(',', '', regex=True).astype(float)"
   ]
  },
  {
   "cell_type": "markdown",
   "id": "4ca89859",
   "metadata": {},
   "source": [
    "#### Remove duplicates:"
   ]
  },
  {
   "cell_type": "code",
   "execution_count": 13,
   "id": "cb63795d",
   "metadata": {},
   "outputs": [],
   "source": [
    "bom_data.drop_duplicates(inplace=True)"
   ]
  },
  {
   "cell_type": "markdown",
   "id": "bac16a9e",
   "metadata": {},
   "source": [
    "### IMDB Movie Ratings (movie_ratings):\n",
    "\n",
    "Check for missing values:"
   ]
  },
  {
   "cell_type": "code",
   "execution_count": 14,
   "id": "39fc0fff",
   "metadata": {},
   "outputs": [
    {
     "data": {
      "text/plain": [
       "tconst           0\n",
       "averagerating    0\n",
       "numvotes         0\n",
       "dtype: int64"
      ]
     },
     "execution_count": 14,
     "metadata": {},
     "output_type": "execute_result"
    }
   ],
   "source": [
    "movie_ratings.isnull().sum()"
   ]
  },
  {
   "cell_type": "markdown",
   "id": "384261ef",
   "metadata": {},
   "source": [
    "there are no missing values so no need to replace. Now we can try removing duplicates "
   ]
  },
  {
   "cell_type": "code",
   "execution_count": 15,
   "id": "e17f635b",
   "metadata": {},
   "outputs": [],
   "source": [
    "movie_ratings.drop_duplicates(inplace=True)"
   ]
  },
  {
   "cell_type": "markdown",
   "id": "6183f292",
   "metadata": {},
   "source": [
    "### IMDB Movie Title Basics (movie_title):\n",
    "\n",
    "Check for missing values:"
   ]
  },
  {
   "cell_type": "code",
   "execution_count": 16,
   "id": "8ef78432",
   "metadata": {
    "scrolled": true
   },
   "outputs": [
    {
     "data": {
      "text/plain": [
       "tconst                 0\n",
       "primary_title          1\n",
       "original_title        22\n",
       "start_year             0\n",
       "runtime_minutes    31739\n",
       "genres              5408\n",
       "dtype: int64"
      ]
     },
     "execution_count": 16,
     "metadata": {},
     "output_type": "execute_result"
    }
   ],
   "source": [
    "movie_title.isnull().sum()"
   ]
  },
  {
   "cell_type": "markdown",
   "id": "8c618674",
   "metadata": {},
   "source": [
    "If a row has missing values for important columns, you may consider removing the row using:"
   ]
  },
  {
   "cell_type": "code",
   "execution_count": 17,
   "id": "bdf07b3e",
   "metadata": {},
   "outputs": [],
   "source": [
    "movie_title.dropna(subset=['primary_title'], inplace=True)"
   ]
  },
  {
   "cell_type": "markdown",
   "id": "1587419d",
   "metadata": {},
   "source": [
    "If the data types for the 'start_year' and 'runtime_minutes' columns in the movie_title dataframe are already appropriate as integer and float, respectively, there is no need to convert their data types."
   ]
  },
  {
   "cell_type": "code",
   "execution_count": 18,
   "id": "f61bdbd7",
   "metadata": {},
   "outputs": [],
   "source": [
    "movie_title['start_year'] = movie_title['start_year'].astype(int)\n",
    "movie_title['runtime_minutes'] = movie_title['runtime_minutes'].astype(float)"
   ]
  },
  {
   "cell_type": "markdown",
   "id": "fd736e22",
   "metadata": {},
   "source": [
    "Remove duplicates:"
   ]
  },
  {
   "cell_type": "code",
   "execution_count": 19,
   "id": "88348c7f",
   "metadata": {},
   "outputs": [],
   "source": [
    "movie_title.drop_duplicates(inplace=True)"
   ]
  },
  {
   "cell_type": "markdown",
   "id": "763e1d45",
   "metadata": {},
   "source": [
    "### TMDB Movies (movies):\n",
    "\n",
    "Check for missing values:\n"
   ]
  },
  {
   "cell_type": "code",
   "execution_count": 20,
   "id": "a11a11fd",
   "metadata": {},
   "outputs": [
    {
     "data": {
      "text/plain": [
       "Unnamed: 0           0\n",
       "genre_ids            0\n",
       "id                   0\n",
       "original_language    0\n",
       "original_title       0\n",
       "popularity           0\n",
       "release_date         0\n",
       "title                0\n",
       "vote_average         0\n",
       "vote_count           0\n",
       "dtype: int64"
      ]
     },
     "execution_count": 20,
     "metadata": {},
     "output_type": "execute_result"
    }
   ],
   "source": [
    "movies.isnull().sum()"
   ]
  },
  {
   "cell_type": "markdown",
   "id": "08e86655",
   "metadata": {},
   "source": [
    "no missing values so we can check for duplicates "
   ]
  },
  {
   "cell_type": "code",
   "execution_count": 21,
   "id": "21e4d014",
   "metadata": {},
   "outputs": [],
   "source": [
    "movies.drop_duplicates(inplace=True)"
   ]
  },
  {
   "cell_type": "markdown",
   "id": "a91c5a06",
   "metadata": {},
   "source": [
    "### Movie Budgets (movie_budget):\n",
    "\n",
    "Check for missing values:"
   ]
  },
  {
   "cell_type": "code",
   "execution_count": 22,
   "id": "9b691d5f",
   "metadata": {},
   "outputs": [
    {
     "data": {
      "text/plain": [
       "id                   0\n",
       "release_date         0\n",
       "movie                0\n",
       "production_budget    0\n",
       "domestic_gross       0\n",
       "worldwide_gross      0\n",
       "dtype: int64"
      ]
     },
     "execution_count": 22,
     "metadata": {},
     "output_type": "execute_result"
    }
   ],
   "source": [
    "movie_budget.isnull().sum()"
   ]
  },
  {
   "cell_type": "markdown",
   "id": "44929f8e",
   "metadata": {},
   "source": [
    "since there is none we can check for duplicates "
   ]
  },
  {
   "cell_type": "code",
   "execution_count": 23,
   "id": "6bc9989a",
   "metadata": {},
   "outputs": [],
   "source": [
    "movie_budget.drop_duplicates(inplace=True)"
   ]
  },
  {
   "cell_type": "markdown",
   "id": "09f2b096",
   "metadata": {},
   "source": [
    "### 2.1.1 Indexing"
   ]
  },
  {
   "cell_type": "markdown",
   "id": "c68a700c",
   "metadata": {},
   "source": [
    "To merge dataframes, it's important to identify the common columns between them that can be used as keys for merging. In this case, you mentioned that the common column to merge on is the movie title.\n",
    "\n",
    "Before merging, let's ensure that the column names and data formats are consistent across the dataframes. We'll start by renaming the columns and then proceed with the merge.\n",
    "\n",
    "First, let's rename the relevant columns in each dataframe to have consistent column names:"
   ]
  },
  {
   "cell_type": "code",
   "execution_count": 24,
   "id": "7b901227",
   "metadata": {},
   "outputs": [],
   "source": [
    "movie_title.rename(columns={'title': 'movie_title'}, inplace=True)\n",
    "bom_data.rename(columns={'title': 'movie_title'}, inplace=True)"
   ]
  },
  {
   "cell_type": "code",
   "execution_count": 25,
   "id": "641361c7",
   "metadata": {},
   "outputs": [
    {
     "data": {
      "text/html": [
       "<div>\n",
       "<style scoped>\n",
       "    .dataframe tbody tr th:only-of-type {\n",
       "        vertical-align: middle;\n",
       "    }\n",
       "\n",
       "    .dataframe tbody tr th {\n",
       "        vertical-align: top;\n",
       "    }\n",
       "\n",
       "    .dataframe thead th {\n",
       "        text-align: right;\n",
       "    }\n",
       "</style>\n",
       "<table border=\"1\" class=\"dataframe\">\n",
       "  <thead>\n",
       "    <tr style=\"text-align: right;\">\n",
       "      <th></th>\n",
       "      <th>tconst</th>\n",
       "      <th>primary_title</th>\n",
       "      <th>original_title</th>\n",
       "      <th>start_year</th>\n",
       "      <th>runtime_minutes</th>\n",
       "      <th>genres</th>\n",
       "      <th>averagerating</th>\n",
       "      <th>numvotes</th>\n",
       "    </tr>\n",
       "  </thead>\n",
       "  <tbody>\n",
       "    <tr>\n",
       "      <th>0</th>\n",
       "      <td>tt0063540</td>\n",
       "      <td>Sunghursh</td>\n",
       "      <td>Sunghursh</td>\n",
       "      <td>2013</td>\n",
       "      <td>175.0</td>\n",
       "      <td>Action,Crime,Drama</td>\n",
       "      <td>7.0</td>\n",
       "      <td>77</td>\n",
       "    </tr>\n",
       "    <tr>\n",
       "      <th>1</th>\n",
       "      <td>tt0066787</td>\n",
       "      <td>One Day Before the Rainy Season</td>\n",
       "      <td>Ashad Ka Ek Din</td>\n",
       "      <td>2019</td>\n",
       "      <td>114.0</td>\n",
       "      <td>Biography,Drama</td>\n",
       "      <td>7.2</td>\n",
       "      <td>43</td>\n",
       "    </tr>\n",
       "    <tr>\n",
       "      <th>2</th>\n",
       "      <td>tt0069049</td>\n",
       "      <td>The Other Side of the Wind</td>\n",
       "      <td>The Other Side of the Wind</td>\n",
       "      <td>2018</td>\n",
       "      <td>122.0</td>\n",
       "      <td>Drama</td>\n",
       "      <td>6.9</td>\n",
       "      <td>4517</td>\n",
       "    </tr>\n",
       "    <tr>\n",
       "      <th>3</th>\n",
       "      <td>tt0069204</td>\n",
       "      <td>Sabse Bada Sukh</td>\n",
       "      <td>Sabse Bada Sukh</td>\n",
       "      <td>2018</td>\n",
       "      <td>NaN</td>\n",
       "      <td>Comedy,Drama</td>\n",
       "      <td>6.1</td>\n",
       "      <td>13</td>\n",
       "    </tr>\n",
       "    <tr>\n",
       "      <th>4</th>\n",
       "      <td>tt0100275</td>\n",
       "      <td>The Wandering Soap Opera</td>\n",
       "      <td>La Telenovela Errante</td>\n",
       "      <td>2017</td>\n",
       "      <td>80.0</td>\n",
       "      <td>Comedy,Drama,Fantasy</td>\n",
       "      <td>6.5</td>\n",
       "      <td>119</td>\n",
       "    </tr>\n",
       "  </tbody>\n",
       "</table>\n",
       "</div>"
      ],
      "text/plain": [
       "      tconst                    primary_title              original_title   \n",
       "0  tt0063540                        Sunghursh                   Sunghursh  \\\n",
       "1  tt0066787  One Day Before the Rainy Season             Ashad Ka Ek Din   \n",
       "2  tt0069049       The Other Side of the Wind  The Other Side of the Wind   \n",
       "3  tt0069204                  Sabse Bada Sukh             Sabse Bada Sukh   \n",
       "4  tt0100275         The Wandering Soap Opera       La Telenovela Errante   \n",
       "\n",
       "   start_year  runtime_minutes                genres  averagerating  numvotes  \n",
       "0        2013            175.0    Action,Crime,Drama            7.0        77  \n",
       "1        2019            114.0       Biography,Drama            7.2        43  \n",
       "2        2018            122.0                 Drama            6.9      4517  \n",
       "3        2018              NaN          Comedy,Drama            6.1        13  \n",
       "4        2017             80.0  Comedy,Drama,Fantasy            6.5       119  "
      ]
     },
     "execution_count": 25,
     "metadata": {},
     "output_type": "execute_result"
    }
   ],
   "source": [
    "# Merge the movie basics and ratings tables based on tconst\n",
    "imdb_data = pd.merge(movie_title, movie_ratings, on='tconst', how='inner')\n",
    "imdb_data.head()"
   ]
  },
  {
   "cell_type": "markdown",
   "id": "3e5f5393",
   "metadata": {},
   "source": [
    "Next, let's merge the dataframes on the 'movie_title' column:"
   ]
  },
  {
   "cell_type": "code",
   "execution_count": 26,
   "id": "357df970",
   "metadata": {},
   "outputs": [],
   "source": [
    "# Merge the IMDb data with Box Office Mojo data based on movie titles\n",
    "merged_data = movie_title.merge(bom_data, left_on='primary_title', right_on='movie_title', how='inner')"
   ]
  },
  {
   "cell_type": "code",
   "execution_count": 27,
   "id": "dce72718",
   "metadata": {},
   "outputs": [
    {
     "data": {
      "text/html": [
       "<div>\n",
       "<style scoped>\n",
       "    .dataframe tbody tr th:only-of-type {\n",
       "        vertical-align: middle;\n",
       "    }\n",
       "\n",
       "    .dataframe tbody tr th {\n",
       "        vertical-align: top;\n",
       "    }\n",
       "\n",
       "    .dataframe thead th {\n",
       "        text-align: right;\n",
       "    }\n",
       "</style>\n",
       "<table border=\"1\" class=\"dataframe\">\n",
       "  <thead>\n",
       "    <tr style=\"text-align: right;\">\n",
       "      <th></th>\n",
       "      <th>primary_title</th>\n",
       "      <th>start_year</th>\n",
       "      <th>runtime_minutes</th>\n",
       "      <th>genres</th>\n",
       "      <th>movie_title</th>\n",
       "      <th>studio</th>\n",
       "      <th>domestic_gross</th>\n",
       "      <th>foreign_gross</th>\n",
       "      <th>year</th>\n",
       "    </tr>\n",
       "  </thead>\n",
       "  <tbody>\n",
       "    <tr>\n",
       "      <th>0</th>\n",
       "      <td>Wazir</td>\n",
       "      <td>2016</td>\n",
       "      <td>103.0</td>\n",
       "      <td>Action,Crime,Drama</td>\n",
       "      <td>Wazir</td>\n",
       "      <td>Relbig.</td>\n",
       "      <td>1100000.0</td>\n",
       "      <td>NaN</td>\n",
       "      <td>2016</td>\n",
       "    </tr>\n",
       "    <tr>\n",
       "      <th>1</th>\n",
       "      <td>On the Road</td>\n",
       "      <td>2012</td>\n",
       "      <td>124.0</td>\n",
       "      <td>Adventure,Drama,Romance</td>\n",
       "      <td>On the Road</td>\n",
       "      <td>IFC</td>\n",
       "      <td>744000.0</td>\n",
       "      <td>8000000.0</td>\n",
       "      <td>2012</td>\n",
       "    </tr>\n",
       "    <tr>\n",
       "      <th>2</th>\n",
       "      <td>On the Road</td>\n",
       "      <td>2011</td>\n",
       "      <td>90.0</td>\n",
       "      <td>Drama</td>\n",
       "      <td>On the Road</td>\n",
       "      <td>IFC</td>\n",
       "      <td>744000.0</td>\n",
       "      <td>8000000.0</td>\n",
       "      <td>2012</td>\n",
       "    </tr>\n",
       "    <tr>\n",
       "      <th>3</th>\n",
       "      <td>On the Road</td>\n",
       "      <td>2013</td>\n",
       "      <td>87.0</td>\n",
       "      <td>Documentary</td>\n",
       "      <td>On the Road</td>\n",
       "      <td>IFC</td>\n",
       "      <td>744000.0</td>\n",
       "      <td>8000000.0</td>\n",
       "      <td>2012</td>\n",
       "    </tr>\n",
       "    <tr>\n",
       "      <th>4</th>\n",
       "      <td>On the Road</td>\n",
       "      <td>2014</td>\n",
       "      <td>89.0</td>\n",
       "      <td>Drama</td>\n",
       "      <td>On the Road</td>\n",
       "      <td>IFC</td>\n",
       "      <td>744000.0</td>\n",
       "      <td>8000000.0</td>\n",
       "      <td>2012</td>\n",
       "    </tr>\n",
       "  </tbody>\n",
       "</table>\n",
       "</div>"
      ],
      "text/plain": [
       "  primary_title  start_year  runtime_minutes                   genres   \n",
       "0         Wazir        2016            103.0       Action,Crime,Drama  \\\n",
       "1   On the Road        2012            124.0  Adventure,Drama,Romance   \n",
       "2   On the Road        2011             90.0                    Drama   \n",
       "3   On the Road        2013             87.0              Documentary   \n",
       "4   On the Road        2014             89.0                    Drama   \n",
       "\n",
       "   movie_title   studio  domestic_gross  foreign_gross  year  \n",
       "0        Wazir  Relbig.       1100000.0            NaN  2016  \n",
       "1  On the Road      IFC        744000.0      8000000.0  2012  \n",
       "2  On the Road      IFC        744000.0      8000000.0  2012  \n",
       "3  On the Road      IFC        744000.0      8000000.0  2012  \n",
       "4  On the Road      IFC        744000.0      8000000.0  2012  "
      ]
     },
     "execution_count": 27,
     "metadata": {},
     "output_type": "execute_result"
    }
   ],
   "source": [
    "# Remove irrelevant columns\n",
    "merged_data = merged_data.drop(['tconst', 'original_title'], axis=1)\n",
    "merged_data.head()"
   ]
  },
  {
   "cell_type": "markdown",
   "id": "4449ef4b",
   "metadata": {},
   "source": [
    "Merge the 'bom_data' (Box Office Mojo) dataset with the 'movie_title' dataset.\n",
    "Merge the resulting dataset with the 'movie_ratings' dataset.\n",
    "A merged dataset that contains information about the studios, gross revenue, movie titles, and ratings."
   ]
  },
  {
   "cell_type": "code",
   "execution_count": 28,
   "id": "a830ea14",
   "metadata": {},
   "outputs": [
    {
     "data": {
      "text/html": [
       "<div>\n",
       "<style scoped>\n",
       "    .dataframe tbody tr th:only-of-type {\n",
       "        vertical-align: middle;\n",
       "    }\n",
       "\n",
       "    .dataframe tbody tr th {\n",
       "        vertical-align: top;\n",
       "    }\n",
       "\n",
       "    .dataframe thead th {\n",
       "        text-align: right;\n",
       "    }\n",
       "</style>\n",
       "<table border=\"1\" class=\"dataframe\">\n",
       "  <thead>\n",
       "    <tr style=\"text-align: right;\">\n",
       "      <th></th>\n",
       "      <th>movie_title</th>\n",
       "      <th>studio</th>\n",
       "      <th>domestic_gross</th>\n",
       "      <th>foreign_gross</th>\n",
       "      <th>year</th>\n",
       "      <th>tconst</th>\n",
       "      <th>primary_title</th>\n",
       "      <th>original_title</th>\n",
       "      <th>start_year</th>\n",
       "      <th>runtime_minutes</th>\n",
       "      <th>genres</th>\n",
       "      <th>averagerating</th>\n",
       "      <th>numvotes</th>\n",
       "    </tr>\n",
       "  </thead>\n",
       "  <tbody>\n",
       "    <tr>\n",
       "      <th>0</th>\n",
       "      <td>Toy Story 3</td>\n",
       "      <td>BV</td>\n",
       "      <td>415000000.0</td>\n",
       "      <td>652000000.0</td>\n",
       "      <td>2010</td>\n",
       "      <td>tt0435761</td>\n",
       "      <td>Toy Story 3</td>\n",
       "      <td>Toy Story 3</td>\n",
       "      <td>2010</td>\n",
       "      <td>103.0</td>\n",
       "      <td>Adventure,Animation,Comedy</td>\n",
       "      <td>8.3</td>\n",
       "      <td>682218</td>\n",
       "    </tr>\n",
       "    <tr>\n",
       "      <th>1</th>\n",
       "      <td>Inception</td>\n",
       "      <td>WB</td>\n",
       "      <td>292600000.0</td>\n",
       "      <td>535700000.0</td>\n",
       "      <td>2010</td>\n",
       "      <td>tt1375666</td>\n",
       "      <td>Inception</td>\n",
       "      <td>Inception</td>\n",
       "      <td>2010</td>\n",
       "      <td>148.0</td>\n",
       "      <td>Action,Adventure,Sci-Fi</td>\n",
       "      <td>8.8</td>\n",
       "      <td>1841066</td>\n",
       "    </tr>\n",
       "    <tr>\n",
       "      <th>2</th>\n",
       "      <td>Shrek Forever After</td>\n",
       "      <td>P/DW</td>\n",
       "      <td>238700000.0</td>\n",
       "      <td>513900000.0</td>\n",
       "      <td>2010</td>\n",
       "      <td>tt0892791</td>\n",
       "      <td>Shrek Forever After</td>\n",
       "      <td>Shrek Forever After</td>\n",
       "      <td>2010</td>\n",
       "      <td>93.0</td>\n",
       "      <td>Adventure,Animation,Comedy</td>\n",
       "      <td>6.3</td>\n",
       "      <td>167532</td>\n",
       "    </tr>\n",
       "    <tr>\n",
       "      <th>3</th>\n",
       "      <td>The Twilight Saga: Eclipse</td>\n",
       "      <td>Sum.</td>\n",
       "      <td>300500000.0</td>\n",
       "      <td>398000000.0</td>\n",
       "      <td>2010</td>\n",
       "      <td>tt1325004</td>\n",
       "      <td>The Twilight Saga: Eclipse</td>\n",
       "      <td>The Twilight Saga: Eclipse</td>\n",
       "      <td>2010</td>\n",
       "      <td>124.0</td>\n",
       "      <td>Adventure,Drama,Fantasy</td>\n",
       "      <td>5.0</td>\n",
       "      <td>211733</td>\n",
       "    </tr>\n",
       "    <tr>\n",
       "      <th>4</th>\n",
       "      <td>Iron Man 2</td>\n",
       "      <td>Par.</td>\n",
       "      <td>312400000.0</td>\n",
       "      <td>311500000.0</td>\n",
       "      <td>2010</td>\n",
       "      <td>tt1228705</td>\n",
       "      <td>Iron Man 2</td>\n",
       "      <td>Iron Man 2</td>\n",
       "      <td>2010</td>\n",
       "      <td>124.0</td>\n",
       "      <td>Action,Adventure,Sci-Fi</td>\n",
       "      <td>7.0</td>\n",
       "      <td>657690</td>\n",
       "    </tr>\n",
       "  </tbody>\n",
       "</table>\n",
       "</div>"
      ],
      "text/plain": [
       "                  movie_title studio  domestic_gross  foreign_gross  year   \n",
       "0                 Toy Story 3     BV     415000000.0    652000000.0  2010  \\\n",
       "1                   Inception     WB     292600000.0    535700000.0  2010   \n",
       "2         Shrek Forever After   P/DW     238700000.0    513900000.0  2010   \n",
       "3  The Twilight Saga: Eclipse   Sum.     300500000.0    398000000.0  2010   \n",
       "4                  Iron Man 2   Par.     312400000.0    311500000.0  2010   \n",
       "\n",
       "      tconst               primary_title              original_title   \n",
       "0  tt0435761                 Toy Story 3                 Toy Story 3  \\\n",
       "1  tt1375666                   Inception                   Inception   \n",
       "2  tt0892791         Shrek Forever After         Shrek Forever After   \n",
       "3  tt1325004  The Twilight Saga: Eclipse  The Twilight Saga: Eclipse   \n",
       "4  tt1228705                  Iron Man 2                  Iron Man 2   \n",
       "\n",
       "   start_year  runtime_minutes                      genres  averagerating   \n",
       "0        2010            103.0  Adventure,Animation,Comedy            8.3  \\\n",
       "1        2010            148.0     Action,Adventure,Sci-Fi            8.8   \n",
       "2        2010             93.0  Adventure,Animation,Comedy            6.3   \n",
       "3        2010            124.0     Adventure,Drama,Fantasy            5.0   \n",
       "4        2010            124.0     Action,Adventure,Sci-Fi            7.0   \n",
       "\n",
       "   numvotes  \n",
       "0    682218  \n",
       "1   1841066  \n",
       "2    167532  \n",
       "3    211733  \n",
       "4    657690  "
      ]
     },
     "execution_count": 28,
     "metadata": {},
     "output_type": "execute_result"
    }
   ],
   "source": [
    "merged_data = bom_data.merge(movie_title, left_on='movie_title', right_on='primary_title', how='inner')\n",
    "final_data = merged_data.merge(movie_ratings, on='tconst', how='inner')\n",
    "final_data.head()"
   ]
  },
  {
   "cell_type": "markdown",
   "id": "e0f22e9e",
   "metadata": {},
   "source": [
    "### 2.1.2 Formatting and Filtering Datatypes"
   ]
  },
  {
   "cell_type": "markdown",
   "id": "bc3ced43",
   "metadata": {},
   "source": [
    "we need to convert domestic gross into a datetime and convert domestic domestic_gross column into an integer"
   ]
  },
  {
   "cell_type": "code",
   "execution_count": 29,
   "id": "6858723b",
   "metadata": {},
   "outputs": [
    {
     "data": {
      "text/html": [
       "<div>\n",
       "<style scoped>\n",
       "    .dataframe tbody tr th:only-of-type {\n",
       "        vertical-align: middle;\n",
       "    }\n",
       "\n",
       "    .dataframe tbody tr th {\n",
       "        vertical-align: top;\n",
       "    }\n",
       "\n",
       "    .dataframe thead th {\n",
       "        text-align: right;\n",
       "    }\n",
       "</style>\n",
       "<table border=\"1\" class=\"dataframe\">\n",
       "  <thead>\n",
       "    <tr style=\"text-align: right;\">\n",
       "      <th></th>\n",
       "      <th>movie_title</th>\n",
       "      <th>studio</th>\n",
       "      <th>domestic_gross</th>\n",
       "      <th>foreign_gross</th>\n",
       "      <th>year</th>\n",
       "      <th>tconst</th>\n",
       "      <th>primary_title</th>\n",
       "      <th>original_title</th>\n",
       "      <th>start_year</th>\n",
       "      <th>runtime_minutes</th>\n",
       "      <th>genres</th>\n",
       "    </tr>\n",
       "  </thead>\n",
       "  <tbody>\n",
       "    <tr>\n",
       "      <th>0</th>\n",
       "      <td>Toy Story 3</td>\n",
       "      <td>BV</td>\n",
       "      <td>415000000</td>\n",
       "      <td>652000000.0</td>\n",
       "      <td>2010</td>\n",
       "      <td>tt0435761</td>\n",
       "      <td>Toy Story 3</td>\n",
       "      <td>Toy Story 3</td>\n",
       "      <td>2010</td>\n",
       "      <td>103.0</td>\n",
       "      <td>Adventure,Animation,Comedy</td>\n",
       "    </tr>\n",
       "    <tr>\n",
       "      <th>1</th>\n",
       "      <td>Inception</td>\n",
       "      <td>WB</td>\n",
       "      <td>292600000</td>\n",
       "      <td>535700000.0</td>\n",
       "      <td>2010</td>\n",
       "      <td>tt1375666</td>\n",
       "      <td>Inception</td>\n",
       "      <td>Inception</td>\n",
       "      <td>2010</td>\n",
       "      <td>148.0</td>\n",
       "      <td>Action,Adventure,Sci-Fi</td>\n",
       "    </tr>\n",
       "    <tr>\n",
       "      <th>2</th>\n",
       "      <td>Shrek Forever After</td>\n",
       "      <td>P/DW</td>\n",
       "      <td>238700000</td>\n",
       "      <td>513900000.0</td>\n",
       "      <td>2010</td>\n",
       "      <td>tt0892791</td>\n",
       "      <td>Shrek Forever After</td>\n",
       "      <td>Shrek Forever After</td>\n",
       "      <td>2010</td>\n",
       "      <td>93.0</td>\n",
       "      <td>Adventure,Animation,Comedy</td>\n",
       "    </tr>\n",
       "    <tr>\n",
       "      <th>3</th>\n",
       "      <td>The Twilight Saga: Eclipse</td>\n",
       "      <td>Sum.</td>\n",
       "      <td>300500000</td>\n",
       "      <td>398000000.0</td>\n",
       "      <td>2010</td>\n",
       "      <td>tt1325004</td>\n",
       "      <td>The Twilight Saga: Eclipse</td>\n",
       "      <td>The Twilight Saga: Eclipse</td>\n",
       "      <td>2010</td>\n",
       "      <td>124.0</td>\n",
       "      <td>Adventure,Drama,Fantasy</td>\n",
       "    </tr>\n",
       "    <tr>\n",
       "      <th>4</th>\n",
       "      <td>Iron Man 2</td>\n",
       "      <td>Par.</td>\n",
       "      <td>312400000</td>\n",
       "      <td>311500000.0</td>\n",
       "      <td>2010</td>\n",
       "      <td>tt1228705</td>\n",
       "      <td>Iron Man 2</td>\n",
       "      <td>Iron Man 2</td>\n",
       "      <td>2010</td>\n",
       "      <td>124.0</td>\n",
       "      <td>Action,Adventure,Sci-Fi</td>\n",
       "    </tr>\n",
       "  </tbody>\n",
       "</table>\n",
       "</div>"
      ],
      "text/plain": [
       "                  movie_title studio  domestic_gross  foreign_gross  year   \n",
       "0                 Toy Story 3     BV       415000000    652000000.0  2010  \\\n",
       "1                   Inception     WB       292600000    535700000.0  2010   \n",
       "2         Shrek Forever After   P/DW       238700000    513900000.0  2010   \n",
       "3  The Twilight Saga: Eclipse   Sum.       300500000    398000000.0  2010   \n",
       "4                  Iron Man 2   Par.       312400000    311500000.0  2010   \n",
       "\n",
       "      tconst               primary_title              original_title   \n",
       "0  tt0435761                 Toy Story 3                 Toy Story 3  \\\n",
       "1  tt1375666                   Inception                   Inception   \n",
       "2  tt0892791         Shrek Forever After         Shrek Forever After   \n",
       "3  tt1325004  The Twilight Saga: Eclipse  The Twilight Saga: Eclipse   \n",
       "4  tt1228705                  Iron Man 2                  Iron Man 2   \n",
       "\n",
       "   start_year  runtime_minutes                      genres  \n",
       "0        2010            103.0  Adventure,Animation,Comedy  \n",
       "1        2010            148.0     Action,Adventure,Sci-Fi  \n",
       "2        2010             93.0  Adventure,Animation,Comedy  \n",
       "3        2010            124.0     Adventure,Drama,Fantasy  \n",
       "4        2010            124.0     Action,Adventure,Sci-Fi  "
      ]
     },
     "execution_count": 29,
     "metadata": {},
     "output_type": "execute_result"
    }
   ],
   "source": [
    "# Remove rows with non-finite values in 'domestic_gross' column\n",
    "merged_data = merged_data.dropna(subset=['domestic_gross'])\n",
    "\n",
    "# Convert 'domestic_gross' column to int\n",
    "merged_data['domestic_gross'] = merged_data['domestic_gross'].astype(int)\n",
    "merged_data.head()"
   ]
  },
  {
   "cell_type": "markdown",
   "id": "39c1bb92",
   "metadata": {},
   "source": [
    "At this point we try to find the necessary measurables based on the data given by calculation of the mean and other variations to filter the data."
   ]
  },
  {
   "cell_type": "code",
   "execution_count": 30,
   "id": "74a995e5",
   "metadata": {},
   "outputs": [
    {
     "data": {
      "text/plain": [
       "104.90087554721701"
      ]
     },
     "execution_count": 30,
     "metadata": {},
     "output_type": "execute_result"
    }
   ],
   "source": [
    "# Fill missing values in 'runtime_minutes' column with the mean value\n",
    "mean_runtime = merged_data['runtime_minutes'].mean()\n",
    "merged_data['runtime_minutes'] = merged_data['runtime_minutes'].fillna(mean_runtime)\n",
    "mean_runtime"
   ]
  },
  {
   "cell_type": "code",
   "execution_count": 56,
   "id": "36e6e564",
   "metadata": {},
   "outputs": [
    {
     "name": "stdout",
     "output_type": "stream",
     "text": [
      "genres            0\n",
      "domestic_gross    0\n",
      "dtype: int64\n"
     ]
    },
    {
     "data": {
      "text/html": [
       "<div>\n",
       "<style scoped>\n",
       "    .dataframe tbody tr th:only-of-type {\n",
       "        vertical-align: middle;\n",
       "    }\n",
       "\n",
       "    .dataframe tbody tr th {\n",
       "        vertical-align: top;\n",
       "    }\n",
       "\n",
       "    .dataframe thead th {\n",
       "        text-align: right;\n",
       "    }\n",
       "</style>\n",
       "<table border=\"1\" class=\"dataframe\">\n",
       "  <thead>\n",
       "    <tr style=\"text-align: right;\">\n",
       "      <th></th>\n",
       "      <th>domestic_gross</th>\n",
       "      <th>genres_Action</th>\n",
       "      <th>genres_Action,Adventure</th>\n",
       "      <th>genres_Action,Adventure,Animation</th>\n",
       "      <th>genres_Action,Adventure,Biography</th>\n",
       "      <th>genres_Action,Adventure,Comedy</th>\n",
       "      <th>genres_Action,Adventure,Crime</th>\n",
       "      <th>genres_Action,Adventure,Drama</th>\n",
       "      <th>genres_Action,Adventure,Family</th>\n",
       "      <th>genres_Action,Adventure,Fantasy</th>\n",
       "      <th>...</th>\n",
       "      <th>genres_Mystery,Romance,Thriller</th>\n",
       "      <th>genres_Mystery,Sci-Fi,Thriller</th>\n",
       "      <th>genres_Mystery,Thriller</th>\n",
       "      <th>genres_Romance</th>\n",
       "      <th>genres_Romance,Sci-Fi,Thriller</th>\n",
       "      <th>genres_Romance,Thriller</th>\n",
       "      <th>genres_Sci-Fi</th>\n",
       "      <th>genres_Sport</th>\n",
       "      <th>genres_Thriller</th>\n",
       "      <th>genres_Thriller,Western</th>\n",
       "    </tr>\n",
       "  </thead>\n",
       "  <tbody>\n",
       "    <tr>\n",
       "      <th>0</th>\n",
       "      <td>415000000.0</td>\n",
       "      <td>False</td>\n",
       "      <td>False</td>\n",
       "      <td>False</td>\n",
       "      <td>False</td>\n",
       "      <td>False</td>\n",
       "      <td>False</td>\n",
       "      <td>False</td>\n",
       "      <td>False</td>\n",
       "      <td>False</td>\n",
       "      <td>...</td>\n",
       "      <td>False</td>\n",
       "      <td>False</td>\n",
       "      <td>False</td>\n",
       "      <td>False</td>\n",
       "      <td>False</td>\n",
       "      <td>False</td>\n",
       "      <td>False</td>\n",
       "      <td>False</td>\n",
       "      <td>False</td>\n",
       "      <td>False</td>\n",
       "    </tr>\n",
       "    <tr>\n",
       "      <th>1</th>\n",
       "      <td>292600000.0</td>\n",
       "      <td>False</td>\n",
       "      <td>False</td>\n",
       "      <td>False</td>\n",
       "      <td>False</td>\n",
       "      <td>False</td>\n",
       "      <td>False</td>\n",
       "      <td>False</td>\n",
       "      <td>False</td>\n",
       "      <td>False</td>\n",
       "      <td>...</td>\n",
       "      <td>False</td>\n",
       "      <td>False</td>\n",
       "      <td>False</td>\n",
       "      <td>False</td>\n",
       "      <td>False</td>\n",
       "      <td>False</td>\n",
       "      <td>False</td>\n",
       "      <td>False</td>\n",
       "      <td>False</td>\n",
       "      <td>False</td>\n",
       "    </tr>\n",
       "    <tr>\n",
       "      <th>2</th>\n",
       "      <td>238700000.0</td>\n",
       "      <td>False</td>\n",
       "      <td>False</td>\n",
       "      <td>False</td>\n",
       "      <td>False</td>\n",
       "      <td>False</td>\n",
       "      <td>False</td>\n",
       "      <td>False</td>\n",
       "      <td>False</td>\n",
       "      <td>False</td>\n",
       "      <td>...</td>\n",
       "      <td>False</td>\n",
       "      <td>False</td>\n",
       "      <td>False</td>\n",
       "      <td>False</td>\n",
       "      <td>False</td>\n",
       "      <td>False</td>\n",
       "      <td>False</td>\n",
       "      <td>False</td>\n",
       "      <td>False</td>\n",
       "      <td>False</td>\n",
       "    </tr>\n",
       "    <tr>\n",
       "      <th>3</th>\n",
       "      <td>300500000.0</td>\n",
       "      <td>False</td>\n",
       "      <td>False</td>\n",
       "      <td>False</td>\n",
       "      <td>False</td>\n",
       "      <td>False</td>\n",
       "      <td>False</td>\n",
       "      <td>False</td>\n",
       "      <td>False</td>\n",
       "      <td>False</td>\n",
       "      <td>...</td>\n",
       "      <td>False</td>\n",
       "      <td>False</td>\n",
       "      <td>False</td>\n",
       "      <td>False</td>\n",
       "      <td>False</td>\n",
       "      <td>False</td>\n",
       "      <td>False</td>\n",
       "      <td>False</td>\n",
       "      <td>False</td>\n",
       "      <td>False</td>\n",
       "    </tr>\n",
       "    <tr>\n",
       "      <th>4</th>\n",
       "      <td>312400000.0</td>\n",
       "      <td>False</td>\n",
       "      <td>False</td>\n",
       "      <td>False</td>\n",
       "      <td>False</td>\n",
       "      <td>False</td>\n",
       "      <td>False</td>\n",
       "      <td>False</td>\n",
       "      <td>False</td>\n",
       "      <td>False</td>\n",
       "      <td>...</td>\n",
       "      <td>False</td>\n",
       "      <td>False</td>\n",
       "      <td>False</td>\n",
       "      <td>False</td>\n",
       "      <td>False</td>\n",
       "      <td>False</td>\n",
       "      <td>False</td>\n",
       "      <td>False</td>\n",
       "      <td>False</td>\n",
       "      <td>False</td>\n",
       "    </tr>\n",
       "  </tbody>\n",
       "</table>\n",
       "<p>5 rows × 323 columns</p>\n",
       "</div>"
      ],
      "text/plain": [
       "   domestic_gross  genres_Action  genres_Action,Adventure   \n",
       "0     415000000.0          False                    False  \\\n",
       "1     292600000.0          False                    False   \n",
       "2     238700000.0          False                    False   \n",
       "3     300500000.0          False                    False   \n",
       "4     312400000.0          False                    False   \n",
       "\n",
       "   genres_Action,Adventure,Animation  genres_Action,Adventure,Biography   \n",
       "0                              False                              False  \\\n",
       "1                              False                              False   \n",
       "2                              False                              False   \n",
       "3                              False                              False   \n",
       "4                              False                              False   \n",
       "\n",
       "   genres_Action,Adventure,Comedy  genres_Action,Adventure,Crime   \n",
       "0                           False                          False  \\\n",
       "1                           False                          False   \n",
       "2                           False                          False   \n",
       "3                           False                          False   \n",
       "4                           False                          False   \n",
       "\n",
       "   genres_Action,Adventure,Drama  genres_Action,Adventure,Family   \n",
       "0                          False                           False  \\\n",
       "1                          False                           False   \n",
       "2                          False                           False   \n",
       "3                          False                           False   \n",
       "4                          False                           False   \n",
       "\n",
       "   genres_Action,Adventure,Fantasy  ...  genres_Mystery,Romance,Thriller   \n",
       "0                            False  ...                            False  \\\n",
       "1                            False  ...                            False   \n",
       "2                            False  ...                            False   \n",
       "3                            False  ...                            False   \n",
       "4                            False  ...                            False   \n",
       "\n",
       "   genres_Mystery,Sci-Fi,Thriller  genres_Mystery,Thriller  genres_Romance   \n",
       "0                           False                    False           False  \\\n",
       "1                           False                    False           False   \n",
       "2                           False                    False           False   \n",
       "3                           False                    False           False   \n",
       "4                           False                    False           False   \n",
       "\n",
       "   genres_Romance,Sci-Fi,Thriller  genres_Romance,Thriller  genres_Sci-Fi   \n",
       "0                           False                    False          False  \\\n",
       "1                           False                    False          False   \n",
       "2                           False                    False          False   \n",
       "3                           False                    False          False   \n",
       "4                           False                    False          False   \n",
       "\n",
       "   genres_Sport  genres_Thriller  genres_Thriller,Western  \n",
       "0         False            False                    False  \n",
       "1         False            False                    False  \n",
       "2         False            False                    False  \n",
       "3         False            False                    False  \n",
       "4         False            False                    False  \n",
       "\n",
       "[5 rows x 323 columns]"
      ]
     },
     "execution_count": 56,
     "metadata": {},
     "output_type": "execute_result"
    }
   ],
   "source": [
    "# Check for missing values\n",
    "missing_values = data.isnull().sum()\n",
    "print(missing_values)\n",
    "\n",
    "# Handle missing values by removing rows with missing values\n",
    "data = data.dropna()\n",
    "\n",
    "# Convert categorical variable 'genre' into numerical format using one-hot encoding\n",
    "encoded_data = pd.get_dummies(data, columns=['genres'])\n",
    "\n",
    "# Check the updated dataframe\n",
    "encoded_data.head()"
   ]
  },
  {
   "cell_type": "markdown",
   "id": "05b5427f",
   "metadata": {},
   "source": [
    "### 2.1.2 Queries "
   ]
  },
  {
   "cell_type": "markdown",
   "id": "79b68fdd",
   "metadata": {},
   "source": [
    "The total gross revenue for each studio for all their movies first the data has to be grouped"
   ]
  },
  {
   "cell_type": "code",
   "execution_count": 31,
   "id": "0bfcf470",
   "metadata": {},
   "outputs": [
    {
     "data": {
      "text/plain": [
       "studio  movie_title                               \n",
       "3D      Sea Rex 3D: Journey to a Prehistoric World    6100000.0\n",
       "A23     Red Obsession                                   13200.0\n",
       "        Revenge of the Electric Car                    151000.0\n",
       "A24     20th Century Women                            5700000.0\n",
       "        A Ghost Story                                 1600000.0\n",
       "                                                        ...    \n",
       "Zeit.   The Pervert's Guide to Ideology                 68000.0\n",
       "        The Salt of Life                               317000.0\n",
       "        The Tree                                       213600.0\n",
       "        Vision                                         435000.0\n",
       "        Zero Motivation                                116000.0\n",
       "Name: domestic_gross, Length: 2596, dtype: float64"
      ]
     },
     "execution_count": 31,
     "metadata": {},
     "output_type": "execute_result"
    }
   ],
   "source": [
    "total_gross_revenue = final_data.groupby(['studio', 'movie_title'])['domestic_gross'].sum()\n",
    "total_gross_revenue"
   ]
  },
  {
   "cell_type": "markdown",
   "id": "0d5c3dcf",
   "metadata": {},
   "source": [
    "This are the top 10 grossing movies by each Studio"
   ]
  },
  {
   "cell_type": "code",
   "execution_count": 32,
   "id": "936d30dc",
   "metadata": {},
   "outputs": [],
   "source": [
    "top_10_grossing_movies = final_data.groupby('studio')['domestic_gross'].nlargest(10)"
   ]
  },
  {
   "cell_type": "code",
   "execution_count": 33,
   "id": "ab52cffd",
   "metadata": {},
   "outputs": [
    {
     "name": "stdout",
     "output_type": "stream",
     "text": [
      "studio      \n",
      "3D      131      6100000.0\n",
      "A23     550       151000.0\n",
      "        1249       13200.0\n",
      "A24     2513    49000000.0\n",
      "        2819    44100000.0\n",
      "                   ...    \n",
      "Zeit.   871       233000.0\n",
      "        1444      231000.0\n",
      "        1551      116000.0\n",
      "        1556       97200.0\n",
      "        473        71200.0\n",
      "Name: domestic_gross, Length: 978, dtype: float64\n"
     ]
    }
   ],
   "source": [
    "print(top_10_grossing_movies)"
   ]
  },
  {
   "cell_type": "markdown",
   "id": "aa306333",
   "metadata": {},
   "source": [
    "This is to find the highest grossing movie of 2000-2010"
   ]
  },
  {
   "cell_type": "code",
   "execution_count": 34,
   "id": "8bcc9935",
   "metadata": {},
   "outputs": [
    {
     "name": "stdout",
     "output_type": "stream",
     "text": [
      "Highest Grossing Movie of 2000-2010:\n",
      "Title: Toy Story 3\n",
      "Domestic Gross: 415000000.0\n"
     ]
    }
   ],
   "source": [
    "# Filter movies for the years 2000-2010\n",
    "filtered_movies = final_data[(final_data['year'] >= 2000) & (final_data['year'] <= 2010)]\n",
    "\n",
    "# Sort the filtered movies by domestic gross in descending order\n",
    "sorted_movies = filtered_movies.sort_values('domestic_gross', ascending=False)\n",
    "\n",
    "# Get the highest grossing movie\n",
    "highest_grossing_movie = sorted_movies.iloc[0]\n",
    "\n",
    "# Print the title and domestic gross of the highest grossing movie\n",
    "print(\"Highest Grossing Movie of 2000-2010:\")\n",
    "print(\"Title:\", highest_grossing_movie['movie_title'])\n",
    "print(\"Domestic Gross:\", highest_grossing_movie['domestic_gross'])"
   ]
  },
  {
   "cell_type": "markdown",
   "id": "b0ad34da",
   "metadata": {},
   "source": [
    "### 3. DATA ANALYSIS"
   ]
  },
  {
   "cell_type": "markdown",
   "id": "b90d44cc",
   "metadata": {},
   "source": [
    "show the distribution of domestic gross "
   ]
  },
  {
   "cell_type": "code",
   "execution_count": 44,
   "id": "f4c86da7",
   "metadata": {},
   "outputs": [
    {
     "data": {
      "image/png": "[encoded data removed]",
      "text/plain": [
       "<Figure size 640x480 with 1 Axes>"
      ]
     },
     "metadata": {},
     "output_type": "display_data"
    }
   ],
   "source": [
    "# Create a histogram of domestic gross\n",
    "plt.hist(final_data['domestic_gross'], bins=20, edgecolor='k')\n",
    "plt.xlabel('Domestic Gross')\n",
    "plt.ylabel('Frequency')\n",
    "plt.title('Distribution of Domestic Gross')\n",
    "plt.show()"
   ]
  },
  {
   "cell_type": "code",
   "execution_count": 45,
   "id": "19f6244f",
   "metadata": {},
   "outputs": [
    {
     "data": {
      "image/png": "[encoded data removed]",
      "text/plain": [
       "<Figure size 640x480 with 1 Axes>"
      ]
     },
     "metadata": {},
     "output_type": "display_data"
    }
   ],
   "source": [
    "# Create a box plot of domestic gross\n",
    "plt.boxplot(final_data['domestic_gross'])\n",
    "plt.ylabel('Domestic Gross')\n",
    "plt.title('Distribution of Domestic Gross')\n",
    "plt.show()"
   ]
  },
  {
   "cell_type": "markdown",
   "id": "ddf00227",
   "metadata": {},
   "source": [
    "the visualization of top 10 movie genres "
   ]
  },
  {
   "cell_type": "code",
   "execution_count": 51,
   "id": "84662ce3",
   "metadata": {},
   "outputs": [
    {
     "data": {
      "image/png": "[encoded data removed]",
      "text/plain": [
       "<Figure size 1000x600 with 1 Axes>"
      ]
     },
     "metadata": {},
     "output_type": "display_data"
    }
   ],
   "source": [
    "# Count the frequency of each genre\n",
    "genre_counts = final_data['genres'].value_counts().head(10)\n",
    "\n",
    "# Create a bar chart of top 10 genre distribution\n",
    "plt.figure(figsize=(10, 6))\n",
    "plt.bar(genre_counts.index, genre_counts.values)\n",
    "plt.xlabel('Genre')\n",
    "plt.ylabel('Frequency')\n",
    "plt.title('Top 10 Genre Distribution')\n",
    "plt.xticks(rotation=45)\n",
    "plt.show()\n"
   ]
  },
  {
   "cell_type": "markdown",
   "id": "60365f17",
   "metadata": {},
   "source": [
    "show analysis for top grossing movies"
   ]
  },
  {
   "cell_type": "code",
   "execution_count": 39,
   "id": "30acc987",
   "metadata": {},
   "outputs": [
    {
     "data": {
      "image/png": "[encoded data removed]",
      "text/plain": [
       "<Figure size 1200x600 with 1 Axes>"
      ]
     },
     "metadata": {},
     "output_type": "display_data"
    }
   ],
   "source": [
    "# Sort the data by gross revenue in descending order\n",
    "sorted_data = final_data.sort_values('domestic_gross', ascending=False)\n",
    "\n",
    "# Select the top N movies (e.g., top 10)\n",
    "top_movies = sorted_data.head(10)\n",
    "\n",
    "# Create a bar chart\n",
    "plt.figure(figsize=(12, 6))\n",
    "plt.barh(top_movies['movie_title'], top_movies['domestic_gross'])\n",
    "plt.xlabel('Gross Revenue')\n",
    "plt.ylabel('Movie Title')\n",
    "plt.title('Top Grossing Movies')\n",
    "plt.tight_layout()\n",
    "plt.show()"
   ]
  },
  {
   "cell_type": "markdown",
   "id": "64249dc5",
   "metadata": {},
   "source": [
    "top grossing movies by each studio "
   ]
  },
  {
   "cell_type": "code",
   "execution_count": 60,
   "id": "58503319",
   "metadata": {},
   "outputs": [
    {
     "data": {
      "image/png": "[encoded data removed]",
      "text/plain": [
       "<Figure size 1200x600 with 1 Axes>"
      ]
     },
     "metadata": {},
     "output_type": "display_data"
    }
   ],
   "source": [
    "top_10_studios = sorted_studios.head(10)\n",
    "\n",
    "# Initialize an empty DataFrame to store the top grossing movies for each studio\n",
    "top_movies = pd.DataFrame(columns=['Studio', 'Movie', 'Domestic Gross'])\n",
    "\n",
    "# Iterate over the top 10 studios\n",
    "for studio in top_10_studios.index:\n",
    "    # Filter the data for each studio\n",
    "    studio_movies = final_data[final_data['studio'] == studio]\n",
    "    # Sort the movies by domestic gross in descending order\n",
    "    sorted_movies = studio_movies.sort_values('domestic_gross', ascending=False)\n",
    "    # Select the top grossing movie for the studio\n",
    "    top_movie = sorted_movies.iloc[0]\n",
    "    # Append the information to the top_movies DataFrame\n",
    "    top_movies = pd.concat([top_movies, pd.DataFrame({'Studio': [studio], 'Movie': [top_movie['movie_title']], 'Domestic Gross': [top_movie['domestic_gross']]})])\n",
    "\n",
    "# Create the bar chart\n",
    "plt.figure(figsize=(12, 6))\n",
    "plt.bar(top_movies['Studio'], top_movies['Domestic Gross'])\n",
    "plt.xlabel('Studio')\n",
    "plt.ylabel('Domestic Gross')\n",
    "plt.title('Top Domestic Grossing Movie by Top 10 Studios')\n",
    "\n",
    "# Rotate x-axis labels for better readability\n",
    "plt.xticks(rotation=45)\n",
    "\n",
    "# Display the bar chart\n",
    "plt.show()"
   ]
  },
  {
   "cell_type": "markdown",
   "id": "ca033acf",
   "metadata": {},
   "source": [
    "To visualize the gross revenue of different studios and identify studios with higher average or total gross revenue"
   ]
  },
  {
   "cell_type": "code",
   "execution_count": 58,
   "id": "5f0fd9af",
   "metadata": {},
   "outputs": [
    {
     "data": {
      "image/png": "[encoded data removed]",
      "text/plain": [
       "<Figure size 1200x600 with 1 Axes>"
      ]
     },
     "metadata": {},
     "output_type": "display_data"
    }
   ],
   "source": [
    "# Calculate aggregate statistics for gross revenue by studio\n",
    "studio_gross_revenue = final_data.groupby('studio')['domestic_gross'].sum()\n",
    "\n",
    "# Sort studios by gross revenue in descending order\n",
    "sorted_studios = studio_gross_revenue.sort_values(ascending=False)\n",
    "\n",
    "# Select top 10 studios for visualization\n",
    "top_n_studios = sorted_studios.head(10)\n",
    "\n",
    "# Create the bar chart\n",
    "plt.figure(figsize=(12, 6))\n",
    "plt.bar(top_n_studios.index, top_n_studios.values)\n",
    "plt.xlabel('Studio')\n",
    "plt.ylabel('Gross Revenue (in billions)')\n",
    "plt.title('Top 10 Studios by Gross Revenue')\n",
    "\n",
    "# Rotate x-axis labels for better readability\n",
    "plt.xticks(rotation=45)\n",
    "\n",
    "# Display the bar chart\n",
    "plt.show()"
   ]
  },
  {
   "cell_type": "markdown",
   "id": "31c743f9",
   "metadata": {},
   "source": [
    "### 4. RECOMMENDATIONS"
   ]
  },
  {
   "cell_type": "markdown",
   "id": "5d0d875d",
   "metadata": {},
   "source": [
    "the following recommendations can be made:\n",
    "\n",
    "1. Focus on High-Grossing Genres: Identify the genres that consistently generate high domestic gross revenue. Allocate resources and investments towards producing movies in these genres to increase the chances of success."
   ]
  },
  {
   "cell_type": "markdown",
   "id": "95ca5373",
   "metadata": {},
   "source": [
    "2. Collaborate with Top Studios: Consider partnerships or collaborations with the top studios that have a track record of producing successful movies. This can provide access to their expertise, resources, and distribution networks, which can contribute to higher gross revenue."
   ]
  },
  {
   "cell_type": "markdown",
   "id": "6465ea64",
   "metadata": {},
   "source": [
    "3. Stay Updated with Industry Trends: Keep a close eye on industry trends, emerging genres, and evolving audience preferences. By staying informed, you can adapt your movie production strategies to align with current market demands and increase the likelihood of producing successful movies."
   ]
  },
  {
   "cell_type": "markdown",
   "id": "608b97e1",
   "metadata": {},
   "source": [
    "4. Analyze Financial feasibility: While focusing on gross revenue, also consider the movie's profitability by analyzing the production costs, marketing expenses, and other associated financial factors. Balancing gross revenue with costs will help ensure sustainable profitability."
   ]
  },
  {
   "cell_type": "code",
   "execution_count": null,
   "id": "51df46e7",
   "metadata": {},
   "outputs": [],
   "source": []
  }
 ],
 "metadata": {
  "kernelspec": {
   "display_name": "Python 3 (ipykernel)",
   "language": "python",
   "name": "python3"
  },
  "language_info": {
   "codemirror_mode": {
    "name": "ipython",
    "version": 3
   },
   "file_extension": ".py",
   "mimetype": "text/x-python",
   "name": "python",
   "nbconvert_exporter": "python",
   "pygments_lexer": "ipython3",
   "version": "3.10.11"
  }
 },
 "nbformat": 4,
 "nbformat_minor": 5
}
